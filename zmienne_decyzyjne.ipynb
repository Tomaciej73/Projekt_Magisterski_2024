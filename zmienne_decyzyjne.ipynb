{
 "cells": [
  {
   "cell_type": "code",
   "execution_count": 84,
   "metadata": {
    "collapsed": true
   },
   "outputs": [],
   "source": [
    "import pandas as pd\n",
    "import numpy as np\n",
    "import matplotlib.pyplot as plt\n",
    "import seaborn as sns\n",
    "from sklearn.preprocessing import LabelEncoder, StandardScaler\n",
    "from sklearn.model_selection import train_test_split\n",
    "from sklearn.ensemble import RandomForestClassifier, RandomForestRegressor\n",
    "from sklearn.metrics import accuracy_score, mean_squared_error\n",
    "df = pd.read_csv('egzoplanety_pl.csv')"
   ]
  },
  {
   "cell_type": "code",
   "execution_count": 85,
   "outputs": [
    {
     "name": "stdout",
     "output_type": "stream",
     "text": [
      "  Nazwa_Planety Gospodarz_Planety  Metoda_Odkrycia  \\\n",
      "0      11 Com b            11 Com  Radial Velocity   \n",
      "1      11 UMi b            11 UMi  Radial Velocity   \n",
      "2      14 And b            14 And  Radial Velocity   \n",
      "3      14 Her b            14 Her  Radial Velocity   \n",
      "4    16 Cyg B b          16 Cyg B  Radial Velocity   \n",
      "\n",
      "                   Instytucja_Odkrywajaca Typ_Spektralny  \\\n",
      "0                        Xinglong Station         G8 III   \n",
      "1  Thueringer Landessternwarte Tautenburg            NaN   \n",
      "2       Okayama Astrophysical Observatory         K0 III   \n",
      "3                  W. M. Keck Observatory            NaN   \n",
      "4                  Multiple Observatories            NaN   \n",
      "\n",
      "  Stosunek_Metalicznosci_Gwiazdy  Nr  Liczba_Gwiazd  Liczba_Planet  \\\n",
      "0                         [Fe/H]   1              2              1   \n",
      "1                         [Fe/H]   2              1              1   \n",
      "2                         [Fe/H]   3              1              1   \n",
      "3                         [Fe/H]   4              1              2   \n",
      "4                         [Fe/H]   5              3              1   \n",
      "\n",
      "   Rok_Odkrycia  ...  Mimosrod  Strumien_Insolacji  Temperatura_Rownowagi  \\\n",
      "0          2007  ...     0.231                 NaN                    NaN   \n",
      "1          2009  ...     0.080                 NaN                    NaN   \n",
      "2          2008  ...     0.000                 NaN                    NaN   \n",
      "3          2002  ...     0.370                 NaN                    NaN   \n",
      "4          1996  ...     0.680                 NaN                    NaN   \n",
      "\n",
      "   Efektywna_Temperatura_Gwiazdy  Promien_Gwiazdy  Masa_Gwiazdy  \\\n",
      "0                         4742.0            19.00          2.70   \n",
      "1                         4213.0            29.79          2.78   \n",
      "2                         4813.0            11.00          2.20   \n",
      "3                         5338.0             0.93          0.90   \n",
      "4                         5750.0             1.13          1.08   \n",
      "\n",
      "   Metalicznosc_Gwiazdy  Grawitacja_Powierzchniowa_Gwiazdy  Odleglosc  \\\n",
      "0                 -0.35                               2.31    93.1846   \n",
      "1                 -0.02                               1.93   125.3210   \n",
      "2                 -0.24                               2.63    75.4392   \n",
      "3                  0.41                               4.45    17.9323   \n",
      "4                  0.06                               4.36    21.1397   \n",
      "\n",
      "   Wielkosc_Magnitudy  \n",
      "0             4.44038  \n",
      "1             4.56216  \n",
      "2             4.91781  \n",
      "3             6.38300  \n",
      "4             6.06428  \n",
      "\n",
      "[5 rows x 23 columns]\n"
     ]
    }
   ],
   "source": [
    "print(df.head())"
   ],
   "metadata": {
    "collapsed": false
   }
  },
  {
   "cell_type": "code",
   "execution_count": 86,
   "outputs": [
    {
     "name": "stdout",
     "output_type": "stream",
     "text": [
      "<class 'pandas.core.frame.DataFrame'>\n",
      "RangeIndex: 4575 entries, 0 to 4574\n",
      "Data columns (total 23 columns):\n",
      " #   Column                             Non-Null Count  Dtype  \n",
      "---  ------                             --------------  -----  \n",
      " 0   Nazwa_Planety                      4575 non-null   object \n",
      " 1   Gospodarz_Planety                  4575 non-null   object \n",
      " 2   Metoda_Odkrycia                    4575 non-null   object \n",
      " 3   Instytucja_Odkrywajaca             4575 non-null   object \n",
      " 4   Typ_Spektralny                     928 non-null    object \n",
      " 5   Stosunek_Metalicznosci_Gwiazdy     3192 non-null   object \n",
      " 6   Nr                                 4575 non-null   int64  \n",
      " 7   Liczba_Gwiazd                      4575 non-null   int64  \n",
      " 8   Liczba_Planet                      4575 non-null   int64  \n",
      " 9   Rok_Odkrycia                       4575 non-null   int64  \n",
      " 10  Okres_Orbitalny                    4413 non-null   float64\n",
      " 11  Pol_Os_Orbity                      2763 non-null   float64\n",
      " 12  Masa                               2006 non-null   float64\n",
      " 13  Mimosrod                           1707 non-null   float64\n",
      " 14  Strumien_Insolacji                 370 non-null    float64\n",
      " 15  Temperatura_Rownowagi              925 non-null    float64\n",
      " 16  Efektywna_Temperatura_Gwiazdy      4226 non-null   float64\n",
      " 17  Promien_Gwiazdy                    4128 non-null   float64\n",
      " 18  Masa_Gwiazdy                       3844 non-null   float64\n",
      " 19  Metalicznosc_Gwiazdy               3204 non-null   float64\n",
      " 20  Grawitacja_Powierzchniowa_Gwiazdy  3972 non-null   float64\n",
      " 21  Odleglosc                          4471 non-null   float64\n",
      " 22  Wielkosc_Magnitudy                 4400 non-null   float64\n",
      "dtypes: float64(13), int64(4), object(6)\n",
      "memory usage: 822.2+ KB\n",
      "None\n"
     ]
    }
   ],
   "source": [
    "print(df.info())"
   ],
   "metadata": {
    "collapsed": false
   }
  },
  {
   "cell_type": "code",
   "execution_count": 87,
   "outputs": [
    {
     "name": "stdout",
     "output_type": "stream",
     "text": [
      "Nazwa_Planety                           0\n",
      "Gospodarz_Planety                       0\n",
      "Metoda_Odkrycia                         0\n",
      "Instytucja_Odkrywajaca                  0\n",
      "Typ_Spektralny                       3647\n",
      "Stosunek_Metalicznosci_Gwiazdy       1383\n",
      "Nr                                      0\n",
      "Liczba_Gwiazd                           0\n",
      "Liczba_Planet                           0\n",
      "Rok_Odkrycia                            0\n",
      "Okres_Orbitalny                       162\n",
      "Pol_Os_Orbity                        1812\n",
      "Masa                                 2569\n",
      "Mimosrod                             2868\n",
      "Strumien_Insolacji                   4205\n",
      "Temperatura_Rownowagi                3650\n",
      "Efektywna_Temperatura_Gwiazdy         349\n",
      "Promien_Gwiazdy                       447\n",
      "Masa_Gwiazdy                          731\n",
      "Metalicznosc_Gwiazdy                 1371\n",
      "Grawitacja_Powierzchniowa_Gwiazdy     603\n",
      "Odleglosc                             104\n",
      "Wielkosc_Magnitudy                    175\n",
      "dtype: int64\n"
     ]
    }
   ],
   "source": [
    "print(df.isnull().sum())"
   ],
   "metadata": {
    "collapsed": false
   }
  },
  {
   "cell_type": "markdown",
   "source": [
    "Przetwarzanie danych"
   ],
   "metadata": {
    "collapsed": false
   }
  },
  {
   "cell_type": "code",
   "execution_count": 88,
   "outputs": [],
   "source": [
    "df = df.drop(columns=['Nr', 'Nazwa_Planety', 'Gospodarz_Planety', 'Instytucja_Odkrywajaca', 'Typ_Spektralny', 'Stosunek_Metalicznosci_Gwiazdy'])\n",
    "df = df.dropna().reset_index(drop=True)"
   ],
   "metadata": {
    "collapsed": false
   }
  },
  {
   "cell_type": "code",
   "execution_count": 89,
   "outputs": [],
   "source": [
    "categorical_cols = ['Metoda_Odkrycia']\n",
    "label_encoders = {}\n",
    "for col in categorical_cols:\n",
    "    le = LabelEncoder()\n",
    "    df[col] = le.fit_transform(df[col].astype(str))\n",
    "    label_encoders[col] = le"
   ],
   "metadata": {
    "collapsed": false
   }
  },
  {
   "cell_type": "code",
   "execution_count": 90,
   "outputs": [],
   "source": [
    "numeric_cols = df.select_dtypes(include=[np.number]).columns.tolist()\n",
    "if 'Metoda_Odkrycia' in numeric_cols:\n",
    "    numeric_cols.remove('Metoda_Odkrycia')\n",
    "scaler = StandardScaler()\n",
    "df[numeric_cols] = scaler.fit_transform(df[numeric_cols])"
   ],
   "metadata": {
    "collapsed": false
   }
  },
  {
   "cell_type": "markdown",
   "source": [
    "Model klasyfikacji przewidywania 'Metoda_Odkrycia'"
   ],
   "metadata": {
    "collapsed": false
   }
  },
  {
   "cell_type": "code",
   "execution_count": 91,
   "outputs": [
    {
     "name": "stdout",
     "output_type": "stream",
     "text": [
      "Dokładność modelu klasyfikacyjnego: 0.97\n"
     ]
    }
   ],
   "source": [
    "X = df.drop('Metoda_Odkrycia', axis=1)\n",
    "y = df['Metoda_Odkrycia']\n",
    "X_train, X_test, y_train, y_test = train_test_split(X, y, test_size=0.20, random_state=42)\n",
    "clf = RandomForestClassifier(n_estimators=100, random_state=42)\n",
    "clf.fit(X_train, y_train)\n",
    "y_pred = clf.predict(X_test)\n",
    "accuracy = accuracy_score(y_test, y_pred)\n",
    "print(f\"Dokładność modelu klasyfikacyjnego: {accuracy:.2f}\")"
   ],
   "metadata": {
    "collapsed": false
   }
  },
  {
   "cell_type": "markdown",
   "source": [
    "Model regresji przewidywania 'Temperatura_Rownowagi'"
   ],
   "metadata": {
    "collapsed": false
   }
  },
  {
   "cell_type": "code",
   "execution_count": 92,
   "outputs": [
    {
     "name": "stdout",
     "output_type": "stream",
     "text": [
      "RMSE modelu regresyjnego: 0.10\n"
     ]
    }
   ],
   "source": [
    "df_reg = df[df['Temperatura_Rownowagi'].notnull()].reset_index(drop=True)\n",
    "X_reg = df_reg.drop('Temperatura_Rownowagi', axis=1)\n",
    "y_reg = df_reg['Temperatura_Rownowagi']\n",
    "numeric_cols_reg = X_reg.select_dtypes(include=[np.number]).columns.tolist()\n",
    "if 'Metoda_Odkrycia' in numeric_cols_reg:\n",
    "    numeric_cols_reg.remove('Metoda_Odkrycia')\n",
    "X_reg[numeric_cols_reg] = scaler.fit_transform(X_reg[numeric_cols_reg])\n",
    "X_train_reg, X_test_reg, y_train_reg, y_test_reg = train_test_split(X_reg, y_reg, test_size=0.20, random_state=42)\n",
    "reg = RandomForestRegressor(n_estimators=100, random_state=42)\n",
    "reg.fit(X_train_reg, y_train_reg)\n",
    "y_pred_reg = reg.predict(X_test_reg)\n",
    "rmse = np.sqrt(mean_squared_error(y_test_reg, y_pred_reg))\n",
    "print(f\"RMSE modelu regresyjnego: {rmse:.2f}\")"
   ],
   "metadata": {
    "collapsed": false
   }
  },
  {
   "cell_type": "markdown",
   "source": [
    "Przetwarzanie danych"
   ],
   "metadata": {
    "collapsed": false
   }
  },
  {
   "cell_type": "code",
   "execution_count": 93,
   "outputs": [],
   "source": [
    "df = pd.read_csv('egzoplanety_pl.csv')\n",
    "cols_to_convert = [\n",
    "    'Liczba_Gwiazd', 'Liczba_Planet', 'Rok_Odkrycia',\n",
    "    'Okres_Orbitalny', 'Pol_Os_Orbity', 'Masa', 'Mimosrod',\n",
    "    'Strumien_Insolacji', 'Temperatura_Rownowagi', 'Efektywna_Temperatura_Gwiazdy',\n",
    "    'Promien_Gwiazdy', 'Masa_Gwiazdy', 'Metalicznosc_Gwiazdy',\n",
    "    'Grawitacja_Powierzchniowa_Gwiazdy', 'Odleglosc', 'Wielkosc_Magnitudy'\n",
    "]\n",
    "\n",
    "for col in cols_to_convert:\n",
    "    df[col] = pd.to_numeric(df[col], errors='coerce')\n",
    "for col in cols_to_convert:\n",
    "    if df[col].isnull().sum() > 0:\n",
    "        df[col].fillna(df[col].median())\n",
    "categorical_cols = ['Metoda_Odkrycia', 'Typ_Spektralny']\n",
    "label_encoders = {}\n",
    "for col in categorical_cols:\n",
    "    le = LabelEncoder()\n",
    "    df[col] = le.fit_transform(df[col].astype(str))\n",
    "    label_encoders[col] = le\n",
    "numeric_cols = df.select_dtypes(include=[np.number]).columns.tolist()\n",
    "scaler = StandardScaler()\n",
    "df[numeric_cols] = scaler.fit_transform(df[numeric_cols])"
   ],
   "metadata": {
    "collapsed": false
   }
  },
  {
   "cell_type": "markdown",
   "source": [
    "Model przewidywania okresu orbitalnego"
   ],
   "metadata": {
    "collapsed": false
   }
  },
  {
   "cell_type": "code",
   "execution_count": 94,
   "outputs": [
    {
     "name": "stdout",
     "output_type": "stream",
     "text": [
      "RMSE dla modelu przewidującego Okres_Orbitalny: 0.00\n",
      "R² dla modelu przewidującego Okres_Orbitalny: 0.84\n"
     ]
    }
   ],
   "source": [
    "from sklearn.metrics import r2_score\n",
    "\n",
    "features = ['Pol_Os_Orbity', 'Masa', 'Mimosrod']\n",
    "target = 'Okres_Orbitalny'\n",
    "df_model1 = df[features + [target]].dropna().reset_index(drop=True)\n",
    "X = df_model1[features]\n",
    "y = df_model1[target]\n",
    "X_train, X_test, y_train, y_test = train_test_split(X, y, test_size=0.20, random_state=42)\n",
    "model1 = RandomForestRegressor(n_estimators=100, random_state=42)\n",
    "model1.fit(X_train, y_train)\n",
    "y_pred = model1.predict(X_test)\n",
    "rmse = np.sqrt(mean_squared_error(y_test, y_pred))\n",
    "print(f\"RMSE dla modelu przewidującego Okres_Orbitalny: {rmse:.2f}\")\n",
    "r2 = r2_score(y_test, y_pred)\n",
    "print(f\"R² dla modelu przewidującego Okres_Orbitalny: {r2:.2f}\")"
   ],
   "metadata": {
    "collapsed": false
   }
  },
  {
   "cell_type": "markdown",
   "source": [
    "Model przewidywania masy planety"
   ],
   "metadata": {
    "collapsed": false
   }
  },
  {
   "cell_type": "code",
   "execution_count": 95,
   "outputs": [
    {
     "name": "stdout",
     "output_type": "stream",
     "text": [
      "RMSE dla modelu przewidującego Masę planety: 0.62\n",
      "R² dla modelu przewidującego Masę planety: 0.39\n"
     ]
    }
   ],
   "source": [
    "features = ['Masa_Gwiazdy', 'Promien_Gwiazdy', 'Metalicznosc_Gwiazdy', 'Pol_Os_Orbity', 'Mimosrod']\n",
    "target = 'Masa'\n",
    "df_model2 = df[features + [target]].dropna().reset_index(drop=True)\n",
    "X = df_model2[features]\n",
    "y = df_model2[target]\n",
    "X_train, X_test, y_train, y_test = train_test_split(X, y, test_size=0.20, random_state=42)\n",
    "model2 = RandomForestRegressor(n_estimators=100, random_state=42)\n",
    "model2.fit(X_train, y_train)\n",
    "y_pred = model2.predict(X_test)\n",
    "rmse = np.sqrt(mean_squared_error(y_test, y_pred))\n",
    "print(f\"RMSE dla modelu przewidującego Masę planety: {rmse:.2f}\")\n",
    "r2 = r2_score(y_test, y_pred)\n",
    "print(f\"R² dla modelu przewidującego Masę planety: {r2:.2f}\")"
   ],
   "metadata": {
    "collapsed": false
   }
  },
  {
   "cell_type": "markdown",
   "source": [
    "Model przewidywania ekscentryczności"
   ],
   "metadata": {
    "collapsed": false
   }
  },
  {
   "cell_type": "code",
   "execution_count": 96,
   "outputs": [
    {
     "name": "stdout",
     "output_type": "stream",
     "text": [
      "RMSE dla modelu przewidującego Mimosrod: 0.99\n",
      "R² dla modelu przewidującego Masę planety: 0.14\n"
     ]
    }
   ],
   "source": [
    "features = ['Okres_Orbitalny', 'Pol_Os_Orbity', 'Masa_Gwiazdy', 'Masa']\n",
    "target = 'Mimosrod'\n",
    "df_model3 = df[features + [target]].dropna().reset_index(drop=True)\n",
    "X = df_model3[features]\n",
    "y = df_model3[target]\n",
    "X_train, X_test, y_train, y_test = train_test_split(X, y, test_size=0.20, random_state=42)\n",
    "model3 = RandomForestRegressor(n_estimators=100, random_state=42)\n",
    "model3.fit(X_train, y_train)\n",
    "y_pred = model3.predict(X_test)\n",
    "rmse = np.sqrt(mean_squared_error(y_test, y_pred))\n",
    "print(f\"RMSE dla modelu przewidującego Mimosrod: {rmse:.2f}\")\n",
    "r2 = r2_score(y_test, y_pred)\n",
    "print(f\"R² dla modelu przewidującego Masę planety: {r2:.2f}\")"
   ],
   "metadata": {
    "collapsed": false
   }
  },
  {
   "cell_type": "markdown",
   "source": [
    "Model przewidywania temperatury równowagi"
   ],
   "metadata": {
    "collapsed": false
   }
  },
  {
   "cell_type": "code",
   "execution_count": 97,
   "outputs": [
    {
     "name": "stdout",
     "output_type": "stream",
     "text": [
      "RMSE dla modelu przewidującego Temperaturę Równowagi: 0.06\n",
      "R² dla modelu przewidującego Masę planety: 0.99\n"
     ]
    }
   ],
   "source": [
    "if 'Typ_Spektralny' not in categorical_cols:\n",
    "    df['Typ_Spektralny'] = df['Typ_Spektralny'].astype(str)\n",
    "    le = LabelEncoder()\n",
    "    df['Typ_Spektralny'] = le.fit_transform(df['Typ_Spektralny'])\n",
    "    label_encoders['Typ_Spektralny'] = le\n",
    "features = ['Strumien_Insolacji', 'Pol_Os_Orbity', 'Typ_Spektralny', 'Efektywna_Temperatura_Gwiazdy']\n",
    "target = 'Temperatura_Rownowagi'\n",
    "df_model4 = df[features + [target]].dropna().reset_index(drop=True)\n",
    "X = df_model4[features]\n",
    "y = df_model4[target]\n",
    "X_train, X_test, y_train, y_test = train_test_split(X, y, test_size=0.20, random_state=42)\n",
    "model4 = RandomForestRegressor(n_estimators=100, random_state=42)\n",
    "model4.fit(X_train, y_train)\n",
    "y_pred = model4.predict(X_test)\n",
    "rmse = np.sqrt(mean_squared_error(y_test, y_pred))\n",
    "print(f\"RMSE dla modelu przewidującego Temperaturę Równowagi: {rmse:.2f}\")\n",
    "r2 = r2_score(y_test, y_pred)\n",
    "print(f\"R² dla modelu przewidującego Masę planety: {r2:.2f}\")"
   ],
   "metadata": {
    "collapsed": false
   }
  },
  {
   "cell_type": "markdown",
   "source": [
    "Model przewidywania strumienia promieniowania"
   ],
   "metadata": {
    "collapsed": false
   }
  },
  {
   "cell_type": "code",
   "execution_count": 98,
   "outputs": [
    {
     "name": "stdout",
     "output_type": "stream",
     "text": [
      "RMSE dla modelu przewidującego Strumień Insolacji: 0.26\n",
      "R² dla modelu przewidującego Masę planety: 0.05\n"
     ]
    }
   ],
   "source": [
    "features = ['Typ_Spektralny', 'Efektywna_Temperatura_Gwiazdy', 'Pol_Os_Orbity']\n",
    "target = 'Strumien_Insolacji'\n",
    "df_model5 = df[features + [target]].dropna().reset_index(drop=True)\n",
    "X = df_model5[features]\n",
    "y = df_model5[target]\n",
    "X_train, X_test, y_train, y_test = train_test_split(X, y, test_size=0.20, random_state=42)\n",
    "model5 = RandomForestRegressor(n_estimators=100, random_state=42)\n",
    "model5.fit(X_train, y_train)\n",
    "y_pred = model5.predict(X_test)\n",
    "rmse = np.sqrt(mean_squared_error(y_test, y_pred))\n",
    "print(f\"RMSE dla modelu przewidującego Strumień Insolacji: {rmse:.2f}\")\n",
    "r2 = r2_score(y_test, y_pred)\n",
    "print(f\"R² dla modelu przewidującego Masę planety: {r2:.2f}\")"
   ],
   "metadata": {
    "collapsed": false
   }
  },
  {
   "cell_type": "markdown",
   "source": [
    "Model przewidywania parametrow gwiazdy (metaliczność)"
   ],
   "metadata": {
    "collapsed": false
   }
  },
  {
   "cell_type": "code",
   "execution_count": 99,
   "outputs": [
    {
     "name": "stdout",
     "output_type": "stream",
     "text": [
      "RMSE dla modelu przewidującego Metaliczność Gwiazdy: 0.91\n",
      "R² dla modelu przewidującego Masę planety: 0.37\n"
     ]
    }
   ],
   "source": [
    "features = ['Typ_Spektralny', 'Efektywna_Temperatura_Gwiazdy', 'Masa_Gwiazdy', 'Promien_Gwiazdy', 'Okres_Orbitalny', 'Pol_Os_Orbity']\n",
    "target = 'Metalicznosc_Gwiazdy'\n",
    "df_model6 = df[features + [target]].dropna().reset_index(drop=True)\n",
    "X = df_model6[features]\n",
    "y = df_model6[target]\n",
    "X_train, X_test, y_train, y_test = train_test_split(X, y, test_size=0.20, random_state=42)\n",
    "model6 = RandomForestRegressor(n_estimators=100, random_state=42)\n",
    "model6.fit(X_train, y_train)\n",
    "y_pred = model6.predict(X_test)\n",
    "rmse = np.sqrt(mean_squared_error(y_test, y_pred))\n",
    "print(f\"RMSE dla modelu przewidującego Metaliczność Gwiazdy: {rmse:.2f}\")\n",
    "r2 = r2_score(y_test, y_pred)\n",
    "print(f\"R² dla modelu przewidującego Masę planety: {r2:.2f}\")"
   ],
   "metadata": {
    "collapsed": false
   }
  },
  {
   "cell_type": "markdown",
   "source": [],
   "metadata": {
    "collapsed": false
   }
  }
 ],
 "metadata": {
  "kernelspec": {
   "display_name": "Python 3",
   "language": "python",
   "name": "python3"
  },
  "language_info": {
   "codemirror_mode": {
    "name": "ipython",
    "version": 2
   },
   "file_extension": ".py",
   "mimetype": "text/x-python",
   "name": "python",
   "nbconvert_exporter": "python",
   "pygments_lexer": "ipython2",
   "version": "2.7.6"
  }
 },
 "nbformat": 4,
 "nbformat_minor": 0
}
